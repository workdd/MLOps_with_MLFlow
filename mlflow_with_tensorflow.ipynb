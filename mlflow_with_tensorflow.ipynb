{
  "cells": [
    {
      "cell_type": "markdown",
      "metadata": {
        "id": "view-in-github",
        "colab_type": "text"
      },
      "source": [
        "<a href=\"https://colab.research.google.com/github/workdd/MLOps_with_MLFlow/blob/main/mlflow_with_tensorflow.ipynb\" target=\"_parent\"><img src=\"https://colab.research.google.com/assets/colab-badge.svg\" alt=\"Open In Colab\"/></a>"
      ]
    },
    {
      "cell_type": "markdown",
      "metadata": {
        "id": "1mgyoBE4iC9N"
      },
      "source": [
        "# MLFlow를 활용한 MLOps 챕터4"
      ]
    },
    {
      "cell_type": "markdown",
      "metadata": {
        "id": "MHARMnXfiLxR"
      },
      "source": [
        "# TensorFlow 2.0을 사용한 MLFlow(Keras) (p161)"
      ]
    },
    {
      "cell_type": "markdown",
      "metadata": {
        "id": "_hxW2KE6imHc"
      },
      "source": [
        "## 필수 라이브러리 설치 및 버전 확인"
      ]
    },
    {
      "cell_type": "code",
      "execution_count": 1,
      "metadata": {
        "colab": {
          "base_uri": "https://localhost:8080/"
        },
        "id": "536u4NYziK0S",
        "outputId": "672ceb35-f60f-4a1a-d155-9de054a1c267"
      },
      "outputs": [
        {
          "output_type": "stream",
          "name": "stdout",
          "text": [
            "Looking in indexes: https://pypi.org/simple, https://us-python.pkg.dev/colab-wheels/public/simple/\n",
            "Collecting mlflow==1.10.0\n",
            "  Downloading mlflow-1.10.0-py3-none-any.whl (12.4 MB)\n",
            "\u001b[2K     \u001b[90m━━━━━━━━━━━━━━━━━━━━━━━━━━━━━━━━━━━━━━━━\u001b[0m \u001b[32m12.4/12.4 MB\u001b[0m \u001b[31m71.1 MB/s\u001b[0m eta \u001b[36m0:00:00\u001b[0m\n",
            "\u001b[?25hCollecting alembic (from mlflow==1.10.0)\n",
            "  Downloading alembic-1.11.1-py3-none-any.whl (224 kB)\n",
            "\u001b[2K     \u001b[90m━━━━━━━━━━━━━━━━━━━━━━━━━━━━━━━━━━━━━━\u001b[0m \u001b[32m224.5/224.5 kB\u001b[0m \u001b[31m22.6 MB/s\u001b[0m eta \u001b[36m0:00:00\u001b[0m\n",
            "\u001b[?25hCollecting azure-storage-blob>=12.0 (from mlflow==1.10.0)\n",
            "  Downloading azure_storage_blob-12.16.0-py3-none-any.whl (387 kB)\n",
            "\u001b[2K     \u001b[90m━━━━━━━━━━━━━━━━━━━━━━━━━━━━━━━━━━━━━━\u001b[0m \u001b[32m388.0/388.0 kB\u001b[0m \u001b[31m32.8 MB/s\u001b[0m eta \u001b[36m0:00:00\u001b[0m\n",
            "\u001b[?25hRequirement already satisfied: click>=7.0 in /usr/local/lib/python3.10/dist-packages (from mlflow==1.10.0) (8.1.3)\n",
            "Requirement already satisfied: cloudpickle in /usr/local/lib/python3.10/dist-packages (from mlflow==1.10.0) (2.2.1)\n",
            "Collecting databricks-cli>=0.8.7 (from mlflow==1.10.0)\n",
            "  Downloading databricks-cli-0.17.7.tar.gz (83 kB)\n",
            "\u001b[2K     \u001b[90m━━━━━━━━━━━━━━━━━━━━━━━━━━━━━━━━━━━━━━━━\u001b[0m \u001b[32m83.5/83.5 kB\u001b[0m \u001b[31m9.1 MB/s\u001b[0m eta \u001b[36m0:00:00\u001b[0m\n",
            "\u001b[?25h  Preparing metadata (setup.py) ... \u001b[?25l\u001b[?25hdone\n",
            "Requirement already satisfied: requests>=2.17.3 in /usr/local/lib/python3.10/dist-packages (from mlflow==1.10.0) (2.27.1)\n",
            "Requirement already satisfied: six>=1.10.0 in /usr/local/lib/python3.10/dist-packages (from mlflow==1.10.0) (1.16.0)\n",
            "Requirement already satisfied: Flask in /usr/local/lib/python3.10/dist-packages (from mlflow==1.10.0) (2.2.5)\n",
            "Requirement already satisfied: numpy in /usr/local/lib/python3.10/dist-packages (from mlflow==1.10.0) (1.22.4)\n",
            "Requirement already satisfied: pandas in /usr/local/lib/python3.10/dist-packages (from mlflow==1.10.0) (1.5.3)\n",
            "Requirement already satisfied: python-dateutil in /usr/local/lib/python3.10/dist-packages (from mlflow==1.10.0) (2.8.2)\n",
            "Requirement already satisfied: protobuf>=3.6.0 in /usr/local/lib/python3.10/dist-packages (from mlflow==1.10.0) (3.20.3)\n",
            "Collecting gitpython>=2.1.0 (from mlflow==1.10.0)\n",
            "  Downloading GitPython-3.1.31-py3-none-any.whl (184 kB)\n",
            "\u001b[2K     \u001b[90m━━━━━━━━━━━━━━━━━━━━━━━━━━━━━━━━━━━━━━\u001b[0m \u001b[32m184.3/184.3 kB\u001b[0m \u001b[31m19.7 MB/s\u001b[0m eta \u001b[36m0:00:00\u001b[0m\n",
            "\u001b[?25hRequirement already satisfied: pyyaml in /usr/local/lib/python3.10/dist-packages (from mlflow==1.10.0) (6.0)\n",
            "Collecting querystring-parser (from mlflow==1.10.0)\n",
            "  Downloading querystring_parser-1.2.4-py2.py3-none-any.whl (7.9 kB)\n",
            "Collecting docker>=4.0.0 (from mlflow==1.10.0)\n",
            "  Downloading docker-6.1.3-py3-none-any.whl (148 kB)\n",
            "\u001b[2K     \u001b[90m━━━━━━━━━━━━━━━━━━━━━━━━━━━━━━━━━━━━━━\u001b[0m \u001b[32m148.1/148.1 kB\u001b[0m \u001b[31m18.5 MB/s\u001b[0m eta \u001b[36m0:00:00\u001b[0m\n",
            "\u001b[?25hRequirement already satisfied: entrypoints in /usr/local/lib/python3.10/dist-packages (from mlflow==1.10.0) (0.4)\n",
            "Requirement already satisfied: sqlparse in /usr/local/lib/python3.10/dist-packages (from mlflow==1.10.0) (0.4.4)\n",
            "Collecting sqlalchemy<=1.3.13 (from mlflow==1.10.0)\n",
            "  Downloading SQLAlchemy-1.3.13.tar.gz (6.0 MB)\n",
            "\u001b[2K     \u001b[90m━━━━━━━━━━━━━━━━━━━━━━━━━━━━━━━━━━━━━━━━\u001b[0m \u001b[32m6.0/6.0 MB\u001b[0m \u001b[31m69.5 MB/s\u001b[0m eta \u001b[36m0:00:00\u001b[0m\n",
            "\u001b[?25h  Preparing metadata (setup.py) ... \u001b[?25l\u001b[?25hdone\n",
            "Collecting gorilla (from mlflow==1.10.0)\n",
            "  Downloading gorilla-0.4.0-py2.py3-none-any.whl (9.6 kB)\n",
            "Collecting prometheus-flask-exporter (from mlflow==1.10.0)\n",
            "  Downloading prometheus_flask_exporter-0.22.4-py3-none-any.whl (18 kB)\n",
            "Collecting gunicorn (from mlflow==1.10.0)\n",
            "  Downloading gunicorn-20.1.0-py3-none-any.whl (79 kB)\n",
            "\u001b[2K     \u001b[90m━━━━━━━━━━━━━━━━━━━━━━━━━━━━━━━━━━━━━━━━\u001b[0m \u001b[32m79.5/79.5 kB\u001b[0m \u001b[31m8.3 MB/s\u001b[0m eta \u001b[36m0:00:00\u001b[0m\n",
            "\u001b[?25hCollecting azure-core<2.0.0,>=1.26.0 (from azure-storage-blob>=12.0->mlflow==1.10.0)\n",
            "  Downloading azure_core-1.27.1-py3-none-any.whl (174 kB)\n",
            "\u001b[2K     \u001b[90m━━━━━━━━━━━━━━━━━━━━━━━━━━━━━━━━━━━━━━\u001b[0m \u001b[32m174.5/174.5 kB\u001b[0m \u001b[31m15.5 MB/s\u001b[0m eta \u001b[36m0:00:00\u001b[0m\n",
            "\u001b[?25hRequirement already satisfied: cryptography>=2.1.4 in /usr/local/lib/python3.10/dist-packages (from azure-storage-blob>=12.0->mlflow==1.10.0) (41.0.1)\n",
            "Requirement already satisfied: typing-extensions>=4.0.1 in /usr/local/lib/python3.10/dist-packages (from azure-storage-blob>=12.0->mlflow==1.10.0) (4.6.3)\n",
            "Collecting isodate>=0.6.1 (from azure-storage-blob>=12.0->mlflow==1.10.0)\n",
            "  Downloading isodate-0.6.1-py2.py3-none-any.whl (41 kB)\n",
            "\u001b[2K     \u001b[90m━━━━━━━━━━━━━━━━━━━━━━━━━━━━━━━━━━━━━━━━\u001b[0m \u001b[32m41.7/41.7 kB\u001b[0m \u001b[31m4.1 MB/s\u001b[0m eta \u001b[36m0:00:00\u001b[0m\n",
            "\u001b[?25hCollecting pyjwt>=1.7.0 (from databricks-cli>=0.8.7->mlflow==1.10.0)\n",
            "  Downloading PyJWT-2.7.0-py3-none-any.whl (22 kB)\n",
            "Requirement already satisfied: oauthlib>=3.1.0 in /usr/local/lib/python3.10/dist-packages (from databricks-cli>=0.8.7->mlflow==1.10.0) (3.2.2)\n",
            "Requirement already satisfied: tabulate>=0.7.7 in /usr/local/lib/python3.10/dist-packages (from databricks-cli>=0.8.7->mlflow==1.10.0) (0.8.10)\n",
            "Requirement already satisfied: urllib3<2.0.0,>=1.26.7 in /usr/local/lib/python3.10/dist-packages (from databricks-cli>=0.8.7->mlflow==1.10.0) (1.26.16)\n",
            "Requirement already satisfied: packaging>=14.0 in /usr/local/lib/python3.10/dist-packages (from docker>=4.0.0->mlflow==1.10.0) (23.1)\n",
            "Requirement already satisfied: websocket-client>=0.32.0 in /usr/local/lib/python3.10/dist-packages (from docker>=4.0.0->mlflow==1.10.0) (1.6.0)\n",
            "Collecting gitdb<5,>=4.0.1 (from gitpython>=2.1.0->mlflow==1.10.0)\n",
            "  Downloading gitdb-4.0.10-py3-none-any.whl (62 kB)\n",
            "\u001b[2K     \u001b[90m━━━━━━━━━━━━━━━━━━━━━━━━━━━━━━━━━━━━━━━━\u001b[0m \u001b[32m62.7/62.7 kB\u001b[0m \u001b[31m6.0 MB/s\u001b[0m eta \u001b[36m0:00:00\u001b[0m\n",
            "\u001b[?25hRequirement already satisfied: certifi>=2017.4.17 in /usr/local/lib/python3.10/dist-packages (from requests>=2.17.3->mlflow==1.10.0) (2023.5.7)\n",
            "Requirement already satisfied: charset-normalizer~=2.0.0 in /usr/local/lib/python3.10/dist-packages (from requests>=2.17.3->mlflow==1.10.0) (2.0.12)\n",
            "Requirement already satisfied: idna<4,>=2.5 in /usr/local/lib/python3.10/dist-packages (from requests>=2.17.3->mlflow==1.10.0) (3.4)\n",
            "Collecting Mako (from alembic->mlflow==1.10.0)\n",
            "  Downloading Mako-1.2.4-py3-none-any.whl (78 kB)\n",
            "\u001b[2K     \u001b[90m━━━━━━━━━━━━━━━━━━━━━━━━━━━━━━━━━━━━━━━\u001b[0m \u001b[32m78.7/78.7 kB\u001b[0m \u001b[31m405.9 kB/s\u001b[0m eta \u001b[36m0:00:00\u001b[0m\n",
            "\u001b[?25hRequirement already satisfied: Werkzeug>=2.2.2 in /usr/local/lib/python3.10/dist-packages (from Flask->mlflow==1.10.0) (2.3.6)\n",
            "Requirement already satisfied: Jinja2>=3.0 in /usr/local/lib/python3.10/dist-packages (from Flask->mlflow==1.10.0) (3.1.2)\n",
            "Requirement already satisfied: itsdangerous>=2.0 in /usr/local/lib/python3.10/dist-packages (from Flask->mlflow==1.10.0) (2.1.2)\n",
            "Requirement already satisfied: setuptools>=3.0 in /usr/local/lib/python3.10/dist-packages (from gunicorn->mlflow==1.10.0) (67.7.2)\n",
            "Requirement already satisfied: pytz>=2020.1 in /usr/local/lib/python3.10/dist-packages (from pandas->mlflow==1.10.0) (2022.7.1)\n",
            "Requirement already satisfied: prometheus-client in /usr/local/lib/python3.10/dist-packages (from prometheus-flask-exporter->mlflow==1.10.0) (0.17.0)\n",
            "Requirement already satisfied: cffi>=1.12 in /usr/local/lib/python3.10/dist-packages (from cryptography>=2.1.4->azure-storage-blob>=12.0->mlflow==1.10.0) (1.15.1)\n",
            "Collecting smmap<6,>=3.0.1 (from gitdb<5,>=4.0.1->gitpython>=2.1.0->mlflow==1.10.0)\n",
            "  Downloading smmap-5.0.0-py3-none-any.whl (24 kB)\n",
            "Requirement already satisfied: MarkupSafe>=2.0 in /usr/local/lib/python3.10/dist-packages (from Jinja2>=3.0->Flask->mlflow==1.10.0) (2.1.3)\n",
            "Requirement already satisfied: pycparser in /usr/local/lib/python3.10/dist-packages (from cffi>=1.12->cryptography>=2.1.4->azure-storage-blob>=12.0->mlflow==1.10.0) (2.21)\n",
            "Building wheels for collected packages: databricks-cli, sqlalchemy\n",
            "  Building wheel for databricks-cli (setup.py) ... \u001b[?25l\u001b[?25hdone\n",
            "  Created wheel for databricks-cli: filename=databricks_cli-0.17.7-py3-none-any.whl size=143860 sha256=e4800e6af62c3b9ceb6061014d97538053cd22b7b256e421043de430a7bc2bb6\n",
            "  Stored in directory: /root/.cache/pip/wheels/ae/63/93/5402c1a09c1868a59d0b05013484e07af97a9d7b3dbd5bd39a\n",
            "  Building wheel for sqlalchemy (setup.py) ... \u001b[?25l\u001b[?25hdone\n",
            "  Created wheel for sqlalchemy: filename=SQLAlchemy-1.3.13-cp310-cp310-linux_x86_64.whl size=1224519 sha256=bd6fbaef9706e54c4b906c49f55c728ef636c3fc08cf24db9983c4ae4054c0af\n",
            "  Stored in directory: /root/.cache/pip/wheels/22/e6/98/b450abf168fe8580b4762ab69a7a8efb3dba621866de0dd736\n",
            "Successfully built databricks-cli sqlalchemy\n",
            "Installing collected packages: gorilla, sqlalchemy, smmap, querystring-parser, pyjwt, Mako, isodate, gunicorn, gitdb, docker, databricks-cli, azure-core, alembic, prometheus-flask-exporter, gitpython, azure-storage-blob, mlflow\n",
            "  Attempting uninstall: sqlalchemy\n",
            "    Found existing installation: SQLAlchemy 2.0.16\n",
            "    Uninstalling SQLAlchemy-2.0.16:\n",
            "      Successfully uninstalled SQLAlchemy-2.0.16\n",
            "Successfully installed Mako-1.2.4 alembic-1.11.1 azure-core-1.27.1 azure-storage-blob-12.16.0 databricks-cli-0.17.7 docker-6.1.3 gitdb-4.0.10 gitpython-3.1.31 gorilla-0.4.0 gunicorn-20.1.0 isodate-0.6.1 mlflow-1.10.0 prometheus-flask-exporter-0.22.4 pyjwt-2.7.0 querystring-parser-1.2.4 smmap-5.0.0 sqlalchemy-1.3.13\n",
            "Looking in indexes: https://pypi.org/simple, https://us-python.pkg.dev/colab-wheels/public/simple/\n",
            "Collecting scikit-learn==1.1.0\n",
            "  Downloading scikit_learn-1.1.0-cp310-cp310-manylinux_2_17_x86_64.manylinux2014_x86_64.whl (30.7 MB)\n",
            "\u001b[2K     \u001b[90m━━━━━━━━━━━━━━━━━━━━━━━━━━━━━━━━━━━━━━━━\u001b[0m \u001b[32m30.7/30.7 MB\u001b[0m \u001b[31m36.0 MB/s\u001b[0m eta \u001b[36m0:00:00\u001b[0m\n",
            "\u001b[?25hRequirement already satisfied: numpy>=1.17.3 in /usr/local/lib/python3.10/dist-packages (from scikit-learn==1.1.0) (1.22.4)\n",
            "Requirement already satisfied: scipy>=1.3.2 in /usr/local/lib/python3.10/dist-packages (from scikit-learn==1.1.0) (1.10.1)\n",
            "Requirement already satisfied: joblib>=1.0.0 in /usr/local/lib/python3.10/dist-packages (from scikit-learn==1.1.0) (1.2.0)\n",
            "Requirement already satisfied: threadpoolctl>=2.0.0 in /usr/local/lib/python3.10/dist-packages (from scikit-learn==1.1.0) (3.1.0)\n",
            "Installing collected packages: scikit-learn\n",
            "  Attempting uninstall: scikit-learn\n",
            "    Found existing installation: scikit-learn 1.2.2\n",
            "    Uninstalling scikit-learn-1.2.2:\n",
            "      Successfully uninstalled scikit-learn-1.2.2\n",
            "Successfully installed scikit-learn-1.1.0\n"
          ]
        }
      ],
      "source": [
        "!pip install mlflow==1.10.0\n",
        "#scikit-learn 1.2 버전 아래에서 진행해야 원활히 진행 가능\n",
        "!pip install scikit-learn==1.1.0"
      ]
    },
    {
      "cell_type": "code",
      "execution_count": 2,
      "metadata": {
        "colab": {
          "base_uri": "https://localhost:8080/"
        },
        "id": "DSUN-u2rhn4n",
        "outputId": "97d6c22d-9ef5-4c38-a0eb-fe50eeaacf69"
      },
      "outputs": [
        {
          "output_type": "stream",
          "name": "stdout",
          "text": [
            "Tensorflow: 2.12.0\n",
            "scikit-learn: 1.1.0\n",
            "Numpy: 1.22.4\n",
            "MLFlow: 1.10.0\n",
            "Matplotlib: 3.7.1\n"
          ]
        }
      ],
      "source": [
        "import tensorflow as tf\n",
        "from tensorflow.keras.models import Sequential\n",
        "from tensorflow.keras.layers import Dense, Conv2D, Flatten\n",
        "from tensorflow.keras.datasets import mnist\n",
        "\n",
        "import numpy as np\n",
        "\n",
        "import matplotlib\n",
        "import matplotlib.pyplot as plt\n",
        "\n",
        "import sklearn\n",
        "from sklearn.metrics import roc_auc_score\n",
        "\n",
        "import mlflow\n",
        "import mlflow.tensorflow\n",
        "\n",
        "print(\"Tensorflow: {}\".format(tf.__version__))\n",
        "print(\"scikit-learn: {}\".format(sklearn.__version__))\n",
        "print(\"Numpy: {}\".format(np.__version__))\n",
        "print(\"MLFlow: {}\".format(mlflow.__version__))\n",
        "print(\"Matplotlib: {}\".format(matplotlib.__version__))\n"
      ]
    },
    {
      "cell_type": "markdown",
      "metadata": {
        "id": "PXgKgte-jraE"
      },
      "source": [
        "## Databricks 연결\n",
        "\n",
        "MLFlow Ui 사용을 위해 Databricks에 연결해야 함"
      ]
    },
    {
      "cell_type": "code",
      "execution_count": 3,
      "metadata": {
        "colab": {
          "base_uri": "https://localhost:8080/"
        },
        "id": "hYOyGokUjroY",
        "outputId": "e68f0ccb-bae9-4c81-9873-172dc88f9f06"
      },
      "outputs": [
        {
          "output_type": "stream",
          "name": "stderr",
          "text": [
            "/usr/local/lib/python3.10/dist-packages/ipykernel/ipkernel.py:283: DeprecationWarning: `should_run_async` will not call `transform_cell` automatically in the future. Please pass the result to `transformed_cell` argument and any exception that happen during thetransform in `preprocessing_exc_tuple` in IPython 7.17 and above.\n",
            "  and should_run_async(code)\n"
          ]
        },
        {
          "output_type": "stream",
          "name": "stdout",
          "text": [
            "Username: workdofficial@gmail.com\n",
            "Password: \n",
            "Repeat for confirmation: \n"
          ]
        }
      ],
      "source": [
        "!databricks configure --host https://community.cloud.databricks.com/\n",
        "mlflow.set_tracking_uri(\"databricks\")\n",
        "\n",
        "databricks_email = \"workdofficial@gmail.com\"\n",
        "mlflow_experiment = \"TF_Keras_MNIST\"\n",
        "\n",
        "# Databricks에 로그인, experiment가 없을 경우 새로 생성 후 연결\n",
        "mlflow.set_experiment(f\"/Users/{databricks_email}/{mlflow_experiment}\")"
      ]
    },
    {
      "cell_type": "code",
      "execution_count": 4,
      "metadata": {
        "colab": {
          "base_uri": "https://localhost:8080/",
          "height": 482
        },
        "id": "b-Y-B7t_jGbA",
        "outputId": "f9e56b76-8c67-4e19-c3e9-3e257164f912"
      },
      "outputs": [
        {
          "output_type": "stream",
          "name": "stdout",
          "text": [
            "Downloading data from https://storage.googleapis.com/tensorflow/tf-keras-datasets/mnist.npz\n",
            "11490434/11490434 [==============================] - 1s 0us/step\n",
            "Class:  5\n"
          ]
        },
        {
          "output_type": "display_data",
          "data": {
            "text/plain": [
              "<Figure size 640x480 with 1 Axes>"
            ],
            "image/png": "[encoded data removed]"
          },
          "metadata": {}
        }
      ],
      "source": [
        "(x_train, y_train), (x_test, y_test) = mnist.load_data()\n",
        "\n",
        "plt.imshow(x_train[0], cmap='gray')\n",
        "print(\"Class: \", y_train[0])"
      ]
    },
    {
      "cell_type": "code",
      "execution_count": 5,
      "metadata": {
        "colab": {
          "base_uri": "https://localhost:8080/"
        },
        "id": "Zo72e8Isj4EG",
        "outputId": "38731492-154e-4eb3-e4fa-38283c5f6383"
      },
      "outputs": [
        {
          "output_type": "stream",
          "name": "stdout",
          "text": [
            "[0. 0. 0. 0. 0. 0. 0. 1. 0. 0.]\n",
            "Shapes\n",
            "x_train: (60000, 28, 28, 1)\n",
            "y_train: (60000, 10)\n",
            "x_test: (10000, 28, 28, 1)\n",
            "y_test: (10000, 10)\n"
          ]
        }
      ],
      "source": [
        "x_train = x_train.reshape(x_train.shape[0], x_train.shape[1], x_train.shape[2], 1)\n",
        "x_test = x_test.reshape(x_test.shape[0], x_test.shape[1], x_test.shape[2], 1)\n",
        "\n",
        "# y label에 대해서 one-hot 인코딩 벡터로 변환\n",
        "y_train = tf.keras.utils.to_categorical(y_train)\n",
        "y_test = tf.keras.utils.to_categorical(y_test)\n",
        "print(y_test[0])\n",
        "\n",
        "print(\"Shapes\")\n",
        "print(\"x_train: {}\\ny_train: {}\".format(x_train.shape, y_train.shape))\n",
        "print(\"x_test: {}\\ny_test: {}\".format(x_test.shape, y_test.shape))"
      ]
    },
    {
      "cell_type": "code",
      "execution_count": 6,
      "metadata": {
        "colab": {
          "base_uri": "https://localhost:8080/"
        },
        "id": "Wa2ROxldkTxK",
        "outputId": "c5312932-707c-43fa-a014-d63926352a0a"
      },
      "outputs": [
        {
          "output_type": "stream",
          "name": "stdout",
          "text": [
            "Model: \"sequential\"\n",
            "_________________________________________________________________\n",
            " Layer (type)                Output Shape              Param #   \n",
            "=================================================================\n",
            " conv2d (Conv2D)             (None, 14, 14, 16)        160       \n",
            "                                                                 \n",
            " conv2d_1 (Conv2D)           (None, 7, 7, 8)           1160      \n",
            "                                                                 \n",
            " flatten (Flatten)           (None, 392)               0         \n",
            "                                                                 \n",
            " dense (Dense)               (None, 30)                11790     \n",
            "                                                                 \n",
            " dense_1 (Dense)             (None, 20)                620       \n",
            "                                                                 \n",
            " dense_2 (Dense)             (None, 10)                210       \n",
            "                                                                 \n",
            "=================================================================\n",
            "Total params: 13,940\n",
            "Trainable params: 13,940\n",
            "Non-trainable params: 0\n",
            "_________________________________________________________________\n"
          ]
        }
      ],
      "source": [
        "model = Sequential()\n",
        "model.add(Conv2D(filters=16, kernel_size=3, strides=2, padding='same', input_shape=(28, 28, 1), activation=\"relu\"))\n",
        "model.add(Conv2D(filters=8, kernel_size=3, strides=2, padding='same', input_shape=(28, 28, 1), activation=\"relu\"))\n",
        "model.add(Flatten())\n",
        "model.add(Dense(30, activation=\"relu\"))\n",
        "model.add(Dense(20, activation=\"relu\"))\n",
        "model.add(Dense(10, activation=\"softmax\"))\n",
        "\n",
        "model.summary()"
      ]
    },
    {
      "cell_type": "code",
      "execution_count": 7,
      "metadata": {
        "id": "sR8ECwNDkhIc"
      },
      "outputs": [],
      "source": [
        "model.compile(optimizer=\"Adam\", loss=\"categorical_crossentropy\", metrics=[\"accuracy\"])"
      ]
    },
    {
      "cell_type": "code",
      "execution_count": 8,
      "metadata": {
        "colab": {
          "base_uri": "https://localhost:8080/"
        },
        "id": "-JBYhCyllqFi",
        "outputId": "50a305d1-42fd-4a30-d692-5a4c894e24e3"
      },
      "outputs": [
        {
          "output_type": "stream",
          "name": "stderr",
          "text": [
            "/usr/local/lib/python3.10/dist-packages/mlflow/tensorflow.py:753: DeprecationWarning: distutils Version classes are deprecated. Use packaging.version instead.\n",
            "  if LooseVersion(tensorflow.__version__) < LooseVersion('1.12'):\n"
          ]
        },
        {
          "output_type": "stream",
          "name": "stdout",
          "text": [
            "Epoch 1/10\n",
            "235/235 [==============================] - 10s 34ms/step - loss: 1.3414 - accuracy: 0.5838\n",
            "Epoch 2/10\n",
            "235/235 [==============================] - 9s 36ms/step - loss: 0.2676 - accuracy: 0.9198\n",
            "Epoch 3/10\n",
            "235/235 [==============================] - 9s 38ms/step - loss: 0.1666 - accuracy: 0.9502\n",
            "Epoch 4/10\n",
            "235/235 [==============================] - 7s 29ms/step - loss: 0.1269 - accuracy: 0.9622\n",
            "Epoch 5/10\n",
            "235/235 [==============================] - 10s 43ms/step - loss: 0.1039 - accuracy: 0.9682\n",
            "Epoch 6/10\n",
            "235/235 [==============================] - 7s 29ms/step - loss: 0.0892 - accuracy: 0.9726\n",
            "Epoch 7/10\n",
            "235/235 [==============================] - 10s 42ms/step - loss: 0.0756 - accuracy: 0.9771\n",
            "Epoch 8/10\n",
            "235/235 [==============================] - 7s 29ms/step - loss: 0.0662 - accuracy: 0.9799\n",
            "Epoch 9/10\n",
            "235/235 [==============================] - 9s 38ms/step - loss: 0.0584 - accuracy: 0.9813\n",
            "Epoch 10/10\n",
            "235/235 [==============================] - 7s 29ms/step - loss: 0.0532 - accuracy: 0.9833\n"
          ]
        },
        {
          "output_type": "stream",
          "name": "stderr",
          "text": [
            "/usr/local/lib/python3.10/dist-packages/mlflow/keras.py:68: DeprecationWarning: distutils Version classes are deprecated. Use packaging.version instead.\n",
            "  if LooseVersion(tf.__version__) <= LooseVersion('1.13.2'):\n"
          ]
        },
        {
          "output_type": "stream",
          "name": "stdout",
          "text": [
            "313/313 [==============================] - 1s 3ms/step\n",
            "313/313 [==============================] - 2s 5ms/step - loss: 0.0818 - accuracy: 0.9753\n",
            "eval_acc:  0.9753000140190125\n",
            "auc_score:  0.9854398220360414\n"
          ]
        }
      ],
      "source": [
        "mlflow.set_experiment(f\"/Users/{databricks_email}/{mlflow_experiment}\")\n",
        "\n",
        "with mlflow.start_run():\n",
        "\n",
        "  # MLFlow에 Tensorflow/Keras 모델과 관련된 파라미터, 지표 기록\n",
        "  mlflow.tensorflow.autolog()\n",
        "\n",
        "  model.fit(x=x_train, y=y_train, batch_size=256, epochs=10)\n",
        "  preds = model.predict(x_test)\n",
        "  preds = np.round(preds)\n",
        "  eval_acc = model.evaluate(x_test, y_test)[1]\n",
        "  auc_score = roc_auc_score(y_test, preds)\n",
        "\n",
        "  print(\"eval_acc: \", eval_acc)\n",
        "  print(\"auc_score: \", auc_score)\n",
        "\n",
        "  mlflow.tensorflow.mlflow.log_metric(\"eval_acc\", eval_acc)\n",
        "  mlflow.tensorflow.mlflow.log_metric(\"auc_score\", auc_score)\n",
        "\n",
        "mlflow.end_run()\n"
      ]
    },
    {
      "cell_type": "markdown",
      "metadata": {
        "id": "R_TyFr0smkY4"
      },
      "source": [
        "# MLFlow UI에서 로그 확인, 모델 적재"
      ]
    },
    {
      "cell_type": "code",
      "execution_count": 10,
      "metadata": {
        "colab": {
          "base_uri": "https://localhost:8080/"
        },
        "id": "Ri_l80Yqmo03",
        "outputId": "85c13463-7dec-4562-b41b-7b51837d0e23"
      },
      "outputs": [
        {
          "output_type": "stream",
          "name": "stderr",
          "text": [
            "/usr/local/lib/python3.10/dist-packages/mlflow/keras.py:352: DeprecationWarning: distutils Version classes are deprecated. Use packaging.version instead.\n",
            "  if StrictVersion(keras_module.__version__.split('-')[0]) >= StrictVersion(\"2.2.3\"):\n"
          ]
        }
      ],
      "source": [
        "# MLFlow UI에서 생성된 실행 ID 확인 후 기입\n",
        "RUN_ID = \"<Your RUN ID>\"\n",
        "# 실행 ID를 통해 실행된 모델을 불러올 수 있다\n",
        "loaded_model = mlflow.keras.load_model(f\"runs:/{RUN_ID}/model\")"
      ]
    },
    {
      "cell_type": "code",
      "execution_count": 11,
      "metadata": {
        "id": "qqBnpPpgnDZd",
        "colab": {
          "base_uri": "https://localhost:8080/"
        },
        "outputId": "01b70c5c-de24-459a-97d7-50b845b9ec56"
      },
      "outputs": [
        {
          "output_type": "stream",
          "name": "stdout",
          "text": [
            "313/313 [==============================] - 2s 5ms/step - loss: 0.0818 - accuracy: 0.9753\n",
            "313/313 [==============================] - 1s 3ms/step\n",
            "Eval Loss: 0.08181002736091614\n",
            "Eval Acc: 0.9753000140190125\n",
            "Eval AUC: 0.9854398220360414\n"
          ]
        }
      ],
      "source": [
        "eval_loss, eval_acc = loaded_model.evaluate(x_test, y_test)\n",
        "preds = loaded_model.predict(x_test)\n",
        "preds = np.round(preds)\n",
        "\n",
        "eval_auc = roc_auc_score(y_test, preds)\n",
        "\n",
        "print(\"Eval Loss:\", eval_loss)\n",
        "print(\"Eval Acc:\", eval_acc)\n",
        "print(\"Eval AUC:\", eval_auc)"
      ]
    },
    {
      "cell_type": "code",
      "source": [],
      "metadata": {
        "id": "670OMTGkBq5r"
      },
      "execution_count": null,
      "outputs": []
    }
  ],
  "metadata": {
    "colab": {
      "provenance": [],
      "authorship_tag": "ABX9TyPQkzhv0ni7158aI5SuuAoO",
      "include_colab_link": true
    },
    "kernelspec": {
      "display_name": "Python 3",
      "name": "python3"
    },
    "language_info": {
      "name": "python"
    }
  },
  "nbformat": 4,
  "nbformat_minor": 0
}