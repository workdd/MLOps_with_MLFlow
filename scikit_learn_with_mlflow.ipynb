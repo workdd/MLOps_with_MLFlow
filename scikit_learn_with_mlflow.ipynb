{
  "nbformat": 4,
  "nbformat_minor": 0,
  "metadata": {
    "colab": {
      "provenance": [],
      "mount_file_id": "16-7nCK4EjEeqRAvwkT1TQGqFGefMG71m",
      "authorship_tag": "ABX9TyMdfwpb1YdQRKMUMpwwsZBV",
      "include_colab_link": true
    },
    "kernelspec": {
      "name": "python3",
      "display_name": "Python 3"
    },
    "language_info": {
      "name": "python"
    }
  },
  "cells": [
    {
      "cell_type": "markdown",
      "metadata": {
        "id": "view-in-github",
        "colab_type": "text"
      },
      "source": [
        "<a href=\"https://colab.research.google.com/github/workdd/MLOps_with_MLFlow/blob/main/scikit_learn_with_mlflow.ipynb\" target=\"_parent\"><img src=\"https://colab.research.google.com/assets/colab-badge.svg\" alt=\"Open In Colab\"/></a>"
      ]
    },
    {
      "cell_type": "markdown",
      "source": [
        "# MLFlow를 활용한 MLOps 챕터4"
      ],
      "metadata": {
        "id": "eEID_4t-iIZH"
      }
    },
    {
      "cell_type": "markdown",
      "source": [
        "# 사이킷런을 활용한 MLFlow (p124)"
      ],
      "metadata": {
        "id": "SUOUWGItzARq"
      }
    },
    {
      "cell_type": "markdown",
      "source": [
        "## 필수 라이브러리 설치 및 버전 확인"
      ],
      "metadata": {
        "id": "bYK_h4Hm23da"
      }
    },
    {
      "cell_type": "code",
      "source": [
        "!pip install mlflow==1.10.0\n",
        "#scikit-learn 1.2 버전 아래에서 진행해야 원활히 진행 가능\n",
        "!pip install scikit-learn==1.1.0"
      ],
      "metadata": {
        "colab": {
          "base_uri": "https://localhost:8080/"
        },
        "id": "0uZDKbHx5dnM",
        "outputId": "102b4b47-3370-461b-8987-56c245cd04aa"
      },
      "execution_count": 1,
      "outputs": [
        {
          "output_type": "stream",
          "name": "stdout",
          "text": [
            "Looking in indexes: https://pypi.org/simple, https://us-python.pkg.dev/colab-wheels/public/simple/\n",
            "Collecting mlflow==1.10.0\n",
            "  Downloading mlflow-1.10.0-py3-none-any.whl (12.4 MB)\n",
            "\u001b[2K     \u001b[90m━━━━━━━━━━━━━━━━━━━━━━━━━━━━━━━━━━━━━━━━\u001b[0m \u001b[32m12.4/12.4 MB\u001b[0m \u001b[31m92.1 MB/s\u001b[0m eta \u001b[36m0:00:00\u001b[0m\n",
            "\u001b[?25hCollecting alembic (from mlflow==1.10.0)\n",
            "  Downloading alembic-1.11.1-py3-none-any.whl (224 kB)\n",
            "\u001b[2K     \u001b[90m━━━━━━━━━━━━━━━━━━━━━━━━━━━━━━━━━━━━━━\u001b[0m \u001b[32m224.5/224.5 kB\u001b[0m \u001b[31m26.1 MB/s\u001b[0m eta \u001b[36m0:00:00\u001b[0m\n",
            "\u001b[?25hCollecting azure-storage-blob>=12.0 (from mlflow==1.10.0)\n",
            "  Downloading azure_storage_blob-12.16.0-py3-none-any.whl (387 kB)\n",
            "\u001b[2K     \u001b[90m━━━━━━━━━━━━━━━━━━━━━━━━━━━━━━━━━━━━━━\u001b[0m \u001b[32m388.0/388.0 kB\u001b[0m \u001b[31m36.6 MB/s\u001b[0m eta \u001b[36m0:00:00\u001b[0m\n",
            "\u001b[?25hRequirement already satisfied: click>=7.0 in /usr/local/lib/python3.10/dist-packages (from mlflow==1.10.0) (8.1.3)\n",
            "Requirement already satisfied: cloudpickle in /usr/local/lib/python3.10/dist-packages (from mlflow==1.10.0) (2.2.1)\n",
            "Collecting databricks-cli>=0.8.7 (from mlflow==1.10.0)\n",
            "  Downloading databricks-cli-0.17.7.tar.gz (83 kB)\n",
            "\u001b[2K     \u001b[90m━━━━━━━━━━━━━━━━━━━━━━━━━━━━━━━━━━━━━━━━\u001b[0m \u001b[32m83.5/83.5 kB\u001b[0m \u001b[31m10.1 MB/s\u001b[0m eta \u001b[36m0:00:00\u001b[0m\n",
            "\u001b[?25h  Preparing metadata (setup.py) ... \u001b[?25l\u001b[?25hdone\n",
            "Requirement already satisfied: requests>=2.17.3 in /usr/local/lib/python3.10/dist-packages (from mlflow==1.10.0) (2.27.1)\n",
            "Requirement already satisfied: six>=1.10.0 in /usr/local/lib/python3.10/dist-packages (from mlflow==1.10.0) (1.16.0)\n",
            "Requirement already satisfied: Flask in /usr/local/lib/python3.10/dist-packages (from mlflow==1.10.0) (2.2.5)\n",
            "Requirement already satisfied: numpy in /usr/local/lib/python3.10/dist-packages (from mlflow==1.10.0) (1.22.4)\n",
            "Requirement already satisfied: pandas in /usr/local/lib/python3.10/dist-packages (from mlflow==1.10.0) (1.5.3)\n",
            "Requirement already satisfied: python-dateutil in /usr/local/lib/python3.10/dist-packages (from mlflow==1.10.0) (2.8.2)\n",
            "Requirement already satisfied: protobuf>=3.6.0 in /usr/local/lib/python3.10/dist-packages (from mlflow==1.10.0) (3.20.3)\n",
            "Collecting gitpython>=2.1.0 (from mlflow==1.10.0)\n",
            "  Downloading GitPython-3.1.31-py3-none-any.whl (184 kB)\n",
            "\u001b[2K     \u001b[90m━━━━━━━━━━━━━━━━━━━━━━━━━━━━━━━━━━━━━━\u001b[0m \u001b[32m184.3/184.3 kB\u001b[0m \u001b[31m20.7 MB/s\u001b[0m eta \u001b[36m0:00:00\u001b[0m\n",
            "\u001b[?25hRequirement already satisfied: pyyaml in /usr/local/lib/python3.10/dist-packages (from mlflow==1.10.0) (6.0)\n",
            "Collecting querystring-parser (from mlflow==1.10.0)\n",
            "  Downloading querystring_parser-1.2.4-py2.py3-none-any.whl (7.9 kB)\n",
            "Collecting docker>=4.0.0 (from mlflow==1.10.0)\n",
            "  Downloading docker-6.1.3-py3-none-any.whl (148 kB)\n",
            "\u001b[2K     \u001b[90m━━━━━━━━━━━━━━━━━━━━━━━━━━━━━━━━━━━━━━\u001b[0m \u001b[32m148.1/148.1 kB\u001b[0m \u001b[31m15.3 MB/s\u001b[0m eta \u001b[36m0:00:00\u001b[0m\n",
            "\u001b[?25hRequirement already satisfied: entrypoints in /usr/local/lib/python3.10/dist-packages (from mlflow==1.10.0) (0.4)\n",
            "Requirement already satisfied: sqlparse in /usr/local/lib/python3.10/dist-packages (from mlflow==1.10.0) (0.4.4)\n",
            "Collecting sqlalchemy<=1.3.13 (from mlflow==1.10.0)\n",
            "  Downloading SQLAlchemy-1.3.13.tar.gz (6.0 MB)\n",
            "\u001b[2K     \u001b[90m━━━━━━━━━━━━━━━━━━━━━━━━━━━━━━━━━━━━━━━━\u001b[0m \u001b[32m6.0/6.0 MB\u001b[0m \u001b[31m100.8 MB/s\u001b[0m eta \u001b[36m0:00:00\u001b[0m\n",
            "\u001b[?25h  Preparing metadata (setup.py) ... \u001b[?25l\u001b[?25hdone\n",
            "Collecting gorilla (from mlflow==1.10.0)\n",
            "  Downloading gorilla-0.4.0-py2.py3-none-any.whl (9.6 kB)\n",
            "Collecting prometheus-flask-exporter (from mlflow==1.10.0)\n",
            "  Downloading prometheus_flask_exporter-0.22.4-py3-none-any.whl (18 kB)\n",
            "Collecting gunicorn (from mlflow==1.10.0)\n",
            "  Downloading gunicorn-20.1.0-py3-none-any.whl (79 kB)\n",
            "\u001b[2K     \u001b[90m━━━━━━━━━━━━━━━━━━━━━━━━━━━━━━━━━━━━━━━━\u001b[0m \u001b[32m79.5/79.5 kB\u001b[0m \u001b[31m9.9 MB/s\u001b[0m eta \u001b[36m0:00:00\u001b[0m\n",
            "\u001b[?25hCollecting azure-core<2.0.0,>=1.26.0 (from azure-storage-blob>=12.0->mlflow==1.10.0)\n",
            "  Downloading azure_core-1.27.1-py3-none-any.whl (174 kB)\n",
            "\u001b[2K     \u001b[90m━━━━━━━━━━━━━━━━━━━━━━━━━━━━━━━━━━━━━━\u001b[0m \u001b[32m174.5/174.5 kB\u001b[0m \u001b[31m18.7 MB/s\u001b[0m eta \u001b[36m0:00:00\u001b[0m\n",
            "\u001b[?25hRequirement already satisfied: cryptography>=2.1.4 in /usr/local/lib/python3.10/dist-packages (from azure-storage-blob>=12.0->mlflow==1.10.0) (41.0.1)\n",
            "Requirement already satisfied: typing-extensions>=4.0.1 in /usr/local/lib/python3.10/dist-packages (from azure-storage-blob>=12.0->mlflow==1.10.0) (4.6.3)\n",
            "Collecting isodate>=0.6.1 (from azure-storage-blob>=12.0->mlflow==1.10.0)\n",
            "  Downloading isodate-0.6.1-py2.py3-none-any.whl (41 kB)\n",
            "\u001b[2K     \u001b[90m━━━━━━━━━━━━━━━━━━━━━━━━━━━━━━━━━━━━━━━━\u001b[0m \u001b[32m41.7/41.7 kB\u001b[0m \u001b[31m4.1 MB/s\u001b[0m eta \u001b[36m0:00:00\u001b[0m\n",
            "\u001b[?25hCollecting pyjwt>=1.7.0 (from databricks-cli>=0.8.7->mlflow==1.10.0)\n",
            "  Downloading PyJWT-2.7.0-py3-none-any.whl (22 kB)\n",
            "Requirement already satisfied: oauthlib>=3.1.0 in /usr/local/lib/python3.10/dist-packages (from databricks-cli>=0.8.7->mlflow==1.10.0) (3.2.2)\n",
            "Requirement already satisfied: tabulate>=0.7.7 in /usr/local/lib/python3.10/dist-packages (from databricks-cli>=0.8.7->mlflow==1.10.0) (0.8.10)\n",
            "Requirement already satisfied: urllib3<2.0.0,>=1.26.7 in /usr/local/lib/python3.10/dist-packages (from databricks-cli>=0.8.7->mlflow==1.10.0) (1.26.16)\n",
            "Requirement already satisfied: packaging>=14.0 in /usr/local/lib/python3.10/dist-packages (from docker>=4.0.0->mlflow==1.10.0) (23.1)\n",
            "Requirement already satisfied: websocket-client>=0.32.0 in /usr/local/lib/python3.10/dist-packages (from docker>=4.0.0->mlflow==1.10.0) (1.6.0)\n",
            "Collecting gitdb<5,>=4.0.1 (from gitpython>=2.1.0->mlflow==1.10.0)\n",
            "  Downloading gitdb-4.0.10-py3-none-any.whl (62 kB)\n",
            "\u001b[2K     \u001b[90m━━━━━━━━━━━━━━━━━━━━━━━━━━━━━━━━━━━━━━━━\u001b[0m \u001b[32m62.7/62.7 kB\u001b[0m \u001b[31m7.7 MB/s\u001b[0m eta \u001b[36m0:00:00\u001b[0m\n",
            "\u001b[?25hRequirement already satisfied: certifi>=2017.4.17 in /usr/local/lib/python3.10/dist-packages (from requests>=2.17.3->mlflow==1.10.0) (2023.5.7)\n",
            "Requirement already satisfied: charset-normalizer~=2.0.0 in /usr/local/lib/python3.10/dist-packages (from requests>=2.17.3->mlflow==1.10.0) (2.0.12)\n",
            "Requirement already satisfied: idna<4,>=2.5 in /usr/local/lib/python3.10/dist-packages (from requests>=2.17.3->mlflow==1.10.0) (3.4)\n",
            "Collecting Mako (from alembic->mlflow==1.10.0)\n",
            "  Downloading Mako-1.2.4-py3-none-any.whl (78 kB)\n",
            "\u001b[2K     \u001b[90m━━━━━━━━━━━━━━━━━━━━━━━━━━━━━━━━━━━━━━━━\u001b[0m \u001b[32m78.7/78.7 kB\u001b[0m \u001b[31m8.9 MB/s\u001b[0m eta \u001b[36m0:00:00\u001b[0m\n",
            "\u001b[?25hRequirement already satisfied: Werkzeug>=2.2.2 in /usr/local/lib/python3.10/dist-packages (from Flask->mlflow==1.10.0) (2.3.6)\n",
            "Requirement already satisfied: Jinja2>=3.0 in /usr/local/lib/python3.10/dist-packages (from Flask->mlflow==1.10.0) (3.1.2)\n",
            "Requirement already satisfied: itsdangerous>=2.0 in /usr/local/lib/python3.10/dist-packages (from Flask->mlflow==1.10.0) (2.1.2)\n",
            "Requirement already satisfied: setuptools>=3.0 in /usr/local/lib/python3.10/dist-packages (from gunicorn->mlflow==1.10.0) (67.7.2)\n",
            "Requirement already satisfied: pytz>=2020.1 in /usr/local/lib/python3.10/dist-packages (from pandas->mlflow==1.10.0) (2022.7.1)\n",
            "Requirement already satisfied: prometheus-client in /usr/local/lib/python3.10/dist-packages (from prometheus-flask-exporter->mlflow==1.10.0) (0.17.0)\n",
            "Requirement already satisfied: cffi>=1.12 in /usr/local/lib/python3.10/dist-packages (from cryptography>=2.1.4->azure-storage-blob>=12.0->mlflow==1.10.0) (1.15.1)\n",
            "Collecting smmap<6,>=3.0.1 (from gitdb<5,>=4.0.1->gitpython>=2.1.0->mlflow==1.10.0)\n",
            "  Downloading smmap-5.0.0-py3-none-any.whl (24 kB)\n",
            "Requirement already satisfied: MarkupSafe>=2.0 in /usr/local/lib/python3.10/dist-packages (from Jinja2>=3.0->Flask->mlflow==1.10.0) (2.1.3)\n",
            "Requirement already satisfied: pycparser in /usr/local/lib/python3.10/dist-packages (from cffi>=1.12->cryptography>=2.1.4->azure-storage-blob>=12.0->mlflow==1.10.0) (2.21)\n",
            "Building wheels for collected packages: databricks-cli, sqlalchemy\n",
            "  Building wheel for databricks-cli (setup.py) ... \u001b[?25l\u001b[?25hdone\n",
            "  Created wheel for databricks-cli: filename=databricks_cli-0.17.7-py3-none-any.whl size=143860 sha256=bc26c8c86f2998bd10e57b98fa28d68f06ad0064e8e261166e12c10c17c5a302\n",
            "  Stored in directory: /root/.cache/pip/wheels/ae/63/93/5402c1a09c1868a59d0b05013484e07af97a9d7b3dbd5bd39a\n",
            "  Building wheel for sqlalchemy (setup.py) ... \u001b[?25l\u001b[?25hdone\n",
            "  Created wheel for sqlalchemy: filename=SQLAlchemy-1.3.13-cp310-cp310-linux_x86_64.whl size=1224536 sha256=284f8979bc665e25a2e829dbb0f0b3b260131801a35ce05cf782169112ed8883\n",
            "  Stored in directory: /root/.cache/pip/wheels/22/e6/98/b450abf168fe8580b4762ab69a7a8efb3dba621866de0dd736\n",
            "Successfully built databricks-cli sqlalchemy\n",
            "Installing collected packages: gorilla, sqlalchemy, smmap, querystring-parser, pyjwt, Mako, isodate, gunicorn, gitdb, docker, databricks-cli, azure-core, alembic, prometheus-flask-exporter, gitpython, azure-storage-blob, mlflow\n",
            "  Attempting uninstall: sqlalchemy\n",
            "    Found existing installation: SQLAlchemy 2.0.16\n",
            "    Uninstalling SQLAlchemy-2.0.16:\n",
            "      Successfully uninstalled SQLAlchemy-2.0.16\n",
            "Successfully installed Mako-1.2.4 alembic-1.11.1 azure-core-1.27.1 azure-storage-blob-12.16.0 databricks-cli-0.17.7 docker-6.1.3 gitdb-4.0.10 gitpython-3.1.31 gorilla-0.4.0 gunicorn-20.1.0 isodate-0.6.1 mlflow-1.10.0 prometheus-flask-exporter-0.22.4 pyjwt-2.7.0 querystring-parser-1.2.4 smmap-5.0.0 sqlalchemy-1.3.13\n",
            "Looking in indexes: https://pypi.org/simple, https://us-python.pkg.dev/colab-wheels/public/simple/\n",
            "Collecting scikit-learn==1.1.0\n",
            "  Downloading scikit_learn-1.1.0-cp310-cp310-manylinux_2_17_x86_64.manylinux2014_x86_64.whl (30.7 MB)\n",
            "\u001b[2K     \u001b[90m━━━━━━━━━━━━━━━━━━━━━━━━━━━━━━━━━━━━━━━━\u001b[0m \u001b[32m30.7/30.7 MB\u001b[0m \u001b[31m21.6 MB/s\u001b[0m eta \u001b[36m0:00:00\u001b[0m\n",
            "\u001b[?25hRequirement already satisfied: numpy>=1.17.3 in /usr/local/lib/python3.10/dist-packages (from scikit-learn==1.1.0) (1.22.4)\n",
            "Requirement already satisfied: scipy>=1.3.2 in /usr/local/lib/python3.10/dist-packages (from scikit-learn==1.1.0) (1.10.1)\n",
            "Requirement already satisfied: joblib>=1.0.0 in /usr/local/lib/python3.10/dist-packages (from scikit-learn==1.1.0) (1.2.0)\n",
            "Requirement already satisfied: threadpoolctl>=2.0.0 in /usr/local/lib/python3.10/dist-packages (from scikit-learn==1.1.0) (3.1.0)\n",
            "Installing collected packages: scikit-learn\n",
            "  Attempting uninstall: scikit-learn\n",
            "    Found existing installation: scikit-learn 1.2.2\n",
            "    Uninstalling scikit-learn-1.2.2:\n",
            "      Successfully uninstalled scikit-learn-1.2.2\n",
            "Successfully installed scikit-learn-1.1.0\n"
          ]
        }
      ]
    },
    {
      "cell_type": "code",
      "execution_count": 2,
      "metadata": {
        "id": "9AudKP3drpeL",
        "colab": {
          "base_uri": "https://localhost:8080/"
        },
        "outputId": "62ce6db2-fdb8-4e63-9a55-ebe0eebafad7"
      },
      "outputs": [
        {
          "output_type": "stream",
          "name": "stdout",
          "text": [
            "Numpy: 1.22.4\n",
            "Pandas: 1.5.3\n",
            "matplotlib: 3.7.1\n",
            "seaborn: 0.12.2\n",
            "scikit-learn: 1.1.0\n",
            "MLFlow: 1.10.0\n"
          ]
        }
      ],
      "source": [
        "import numpy as np\n",
        "import pandas as pd\n",
        "import matplotlib #\n",
        "import matplotlib.pyplot as plt\n",
        "import seaborn as sns\n",
        "import sklearn #\n",
        "from sklearn.linear_model import LogisticRegression\n",
        "from sklearn.model_selection import train_test_split\n",
        "from sklearn.preprocessing import StandardScaler\n",
        "from sklearn.metrics import roc_auc_score, plot_roc_curve, confusion_matrix\n",
        "from sklearn.model_selection import KFold\n",
        "\n",
        "import mlflow\n",
        "import mlflow.sklearn\n",
        "\n",
        "print(\"Numpy: {}\".format(np.__version__))\n",
        "print(\"Pandas: {}\".format(pd.__version__))\n",
        "print(\"matplotlib: {}\".format(matplotlib.__version__))\n",
        "print(\"seaborn: {}\".format(sns.__version__))\n",
        "print(\"scikit-learn: {}\".format(sklearn.__version__))\n",
        "print(\"MLFlow: {}\".format(mlflow.__version__))\n"
      ]
    },
    {
      "cell_type": "markdown",
      "source": [
        "## Databricks 연결\n",
        "\n",
        "MLFlow Ui 사용을 위해 Databricks에 연결해야 함"
      ],
      "metadata": {
        "id": "2dwM5Xa0Sa5C"
      }
    },
    {
      "cell_type": "code",
      "source": [
        "!databricks configure --host https://community.cloud.databricks.com/\n",
        "mlflow.set_tracking_uri(\"databricks\")\n",
        "\n",
        "databricks_email = \"workdofficial@gmail.com\"\n",
        "mlflow_experiment = \"scikit_learn_experiment\"\n",
        "\n",
        "# Databricks에 로그인, experiment가 없을 경우 새로 생성 후 연결\n",
        "mlflow.set_experiment(f\"/Users/{databricks_email}/{mlflow_experiment}\")"
      ],
      "metadata": {
        "colab": {
          "base_uri": "https://localhost:8080/"
        },
        "id": "JUeDO8lOSdIi",
        "outputId": "4eea95b6-de8e-4c64-8135-c072e73c5b74"
      },
      "execution_count": 5,
      "outputs": [
        {
          "output_type": "stream",
          "name": "stdout",
          "text": [
            "Username: workdofficial@gmail.com\n",
            "Password: \n",
            "Repeat for confirmation: \n",
            "INFO: '/Users/workdofficial@gmail.com/scikit_learn_experiment' does not exist. Creating a new experiment\n"
          ]
        }
      ]
    },
    {
      "cell_type": "markdown",
      "source": [
        "## 데이터 처리"
      ],
      "metadata": {
        "id": "0e0mhz8R2-hR"
      }
    },
    {
      "cell_type": "markdown",
      "source": [
        "아래 사이트에서 신용카드 데이터셋 다운로드\n",
        "- https://www.kaggle.com/datasets/mlg-ulb/creditcardfraud?resource=download\n",
        "\n",
        "다운로드 후 구글 드라이브에 업로드 해두기"
      ],
      "metadata": {
        "id": "btBKwhIazlZV"
      }
    },
    {
      "cell_type": "code",
      "source": [
        "from google.colab import drive\n",
        "drive.mount('/content/drive')"
      ],
      "metadata": {
        "colab": {
          "base_uri": "https://localhost:8080/"
        },
        "id": "sNikuq9dYM8U",
        "outputId": "96d6fd43-88d5-4d03-e0fb-fe2afc71510c"
      },
      "execution_count": 7,
      "outputs": [
        {
          "output_type": "stream",
          "name": "stderr",
          "text": [
            "/usr/local/lib/python3.10/dist-packages/pexpect/popen_spawn.py:60: DeprecationWarning: setDaemon() is deprecated, set the daemon attribute instead\n",
            "  self._read_thread.setDaemon(True)\n"
          ]
        },
        {
          "output_type": "stream",
          "name": "stdout",
          "text": [
            "Mounted at /content/drive\n"
          ]
        }
      ]
    },
    {
      "cell_type": "code",
      "source": [
        "google_drive = \"/content/drive/MyDrive/\"\n",
        "data_path = google_drive + \"creditcard.csv\"\n",
        "df = pd.read_csv(data_path)\n",
        "df = df.drop(\"Time\", axis=1)\n",
        "df.head()"
      ],
      "metadata": {
        "id": "TH_OEwi9tqfb",
        "colab": {
          "base_uri": "https://localhost:8080/",
          "height": 299
        },
        "outputId": "e1a2b24d-aa19-4806-e734-89472b86862b"
      },
      "execution_count": 11,
      "outputs": [
        {
          "output_type": "execute_result",
          "data": {
            "text/plain": [
              "         V1        V2        V3        V4        V5        V6        V7  \\\n",
              "0 -1.359807 -0.072781  2.536347  1.378155 -0.338321  0.462388  0.239599   \n",
              "1  1.191857  0.266151  0.166480  0.448154  0.060018 -0.082361 -0.078803   \n",
              "2 -1.358354 -1.340163  1.773209  0.379780 -0.503198  1.800499  0.791461   \n",
              "3 -0.966272 -0.185226  1.792993 -0.863291 -0.010309  1.247203  0.237609   \n",
              "4 -1.158233  0.877737  1.548718  0.403034 -0.407193  0.095921  0.592941   \n",
              "\n",
              "         V8        V9       V10  ...       V21       V22       V23       V24  \\\n",
              "0  0.098698  0.363787  0.090794  ... -0.018307  0.277838 -0.110474  0.066928   \n",
              "1  0.085102 -0.255425 -0.166974  ... -0.225775 -0.638672  0.101288 -0.339846   \n",
              "2  0.247676 -1.514654  0.207643  ...  0.247998  0.771679  0.909412 -0.689281   \n",
              "3  0.377436 -1.387024 -0.054952  ... -0.108300  0.005274 -0.190321 -1.175575   \n",
              "4 -0.270533  0.817739  0.753074  ... -0.009431  0.798278 -0.137458  0.141267   \n",
              "\n",
              "        V25       V26       V27       V28  Amount  Class  \n",
              "0  0.128539 -0.189115  0.133558 -0.021053  149.62      0  \n",
              "1  0.167170  0.125895 -0.008983  0.014724    2.69      0  \n",
              "2 -0.327642 -0.139097 -0.055353 -0.059752  378.66      0  \n",
              "3  0.647376 -0.221929  0.062723  0.061458  123.50      0  \n",
              "4 -0.206010  0.502292  0.219422  0.215153   69.99      0  \n",
              "\n",
              "[5 rows x 30 columns]"
            ],
            "text/html": [
              "\n",
              "  <div id=\"df-6a9f5278-af19-4287-b55e-d8b10c573ad8\">\n",
              "    <div class=\"colab-df-container\">\n",
              "      <div>\n",
              "<style scoped>\n",
              "    .dataframe tbody tr th:only-of-type {\n",
              "        vertical-align: middle;\n",
              "    }\n",
              "\n",
              "    .dataframe tbody tr th {\n",
              "        vertical-align: top;\n",
              "    }\n",
              "\n",
              "    .dataframe thead th {\n",
              "        text-align: right;\n",
              "    }\n",
              "</style>\n",
              "<table border=\"1\" class=\"dataframe\">\n",
              "  <thead>\n",
              "    <tr style=\"text-align: right;\">\n",
              "      <th></th>\n",
              "      <th>V1</th>\n",
              "      <th>V2</th>\n",
              "      <th>V3</th>\n",
              "      <th>V4</th>\n",
              "      <th>V5</th>\n",
              "      <th>V6</th>\n",
              "      <th>V7</th>\n",
              "      <th>V8</th>\n",
              "      <th>V9</th>\n",
              "      <th>V10</th>\n",
              "      <th>...</th>\n",
              "      <th>V21</th>\n",
              "      <th>V22</th>\n",
              "      <th>V23</th>\n",
              "      <th>V24</th>\n",
              "      <th>V25</th>\n",
              "      <th>V26</th>\n",
              "      <th>V27</th>\n",
              "      <th>V28</th>\n",
              "      <th>Amount</th>\n",
              "      <th>Class</th>\n",
              "    </tr>\n",
              "  </thead>\n",
              "  <tbody>\n",
              "    <tr>\n",
              "      <th>0</th>\n",
              "      <td>-1.359807</td>\n",
              "      <td>-0.072781</td>\n",
              "      <td>2.536347</td>\n",
              "      <td>1.378155</td>\n",
              "      <td>-0.338321</td>\n",
              "      <td>0.462388</td>\n",
              "      <td>0.239599</td>\n",
              "      <td>0.098698</td>\n",
              "      <td>0.363787</td>\n",
              "      <td>0.090794</td>\n",
              "      <td>...</td>\n",
              "      <td>-0.018307</td>\n",
              "      <td>0.277838</td>\n",
              "      <td>-0.110474</td>\n",
              "      <td>0.066928</td>\n",
              "      <td>0.128539</td>\n",
              "      <td>-0.189115</td>\n",
              "      <td>0.133558</td>\n",
              "      <td>-0.021053</td>\n",
              "      <td>149.62</td>\n",
              "      <td>0</td>\n",
              "    </tr>\n",
              "    <tr>\n",
              "      <th>1</th>\n",
              "      <td>1.191857</td>\n",
              "      <td>0.266151</td>\n",
              "      <td>0.166480</td>\n",
              "      <td>0.448154</td>\n",
              "      <td>0.060018</td>\n",
              "      <td>-0.082361</td>\n",
              "      <td>-0.078803</td>\n",
              "      <td>0.085102</td>\n",
              "      <td>-0.255425</td>\n",
              "      <td>-0.166974</td>\n",
              "      <td>...</td>\n",
              "      <td>-0.225775</td>\n",
              "      <td>-0.638672</td>\n",
              "      <td>0.101288</td>\n",
              "      <td>-0.339846</td>\n",
              "      <td>0.167170</td>\n",
              "      <td>0.125895</td>\n",
              "      <td>-0.008983</td>\n",
              "      <td>0.014724</td>\n",
              "      <td>2.69</td>\n",
              "      <td>0</td>\n",
              "    </tr>\n",
              "    <tr>\n",
              "      <th>2</th>\n",
              "      <td>-1.358354</td>\n",
              "      <td>-1.340163</td>\n",
              "      <td>1.773209</td>\n",
              "      <td>0.379780</td>\n",
              "      <td>-0.503198</td>\n",
              "      <td>1.800499</td>\n",
              "      <td>0.791461</td>\n",
              "      <td>0.247676</td>\n",
              "      <td>-1.514654</td>\n",
              "      <td>0.207643</td>\n",
              "      <td>...</td>\n",
              "      <td>0.247998</td>\n",
              "      <td>0.771679</td>\n",
              "      <td>0.909412</td>\n",
              "      <td>-0.689281</td>\n",
              "      <td>-0.327642</td>\n",
              "      <td>-0.139097</td>\n",
              "      <td>-0.055353</td>\n",
              "      <td>-0.059752</td>\n",
              "      <td>378.66</td>\n",
              "      <td>0</td>\n",
              "    </tr>\n",
              "    <tr>\n",
              "      <th>3</th>\n",
              "      <td>-0.966272</td>\n",
              "      <td>-0.185226</td>\n",
              "      <td>1.792993</td>\n",
              "      <td>-0.863291</td>\n",
              "      <td>-0.010309</td>\n",
              "      <td>1.247203</td>\n",
              "      <td>0.237609</td>\n",
              "      <td>0.377436</td>\n",
              "      <td>-1.387024</td>\n",
              "      <td>-0.054952</td>\n",
              "      <td>...</td>\n",
              "      <td>-0.108300</td>\n",
              "      <td>0.005274</td>\n",
              "      <td>-0.190321</td>\n",
              "      <td>-1.175575</td>\n",
              "      <td>0.647376</td>\n",
              "      <td>-0.221929</td>\n",
              "      <td>0.062723</td>\n",
              "      <td>0.061458</td>\n",
              "      <td>123.50</td>\n",
              "      <td>0</td>\n",
              "    </tr>\n",
              "    <tr>\n",
              "      <th>4</th>\n",
              "      <td>-1.158233</td>\n",
              "      <td>0.877737</td>\n",
              "      <td>1.548718</td>\n",
              "      <td>0.403034</td>\n",
              "      <td>-0.407193</td>\n",
              "      <td>0.095921</td>\n",
              "      <td>0.592941</td>\n",
              "      <td>-0.270533</td>\n",
              "      <td>0.817739</td>\n",
              "      <td>0.753074</td>\n",
              "      <td>...</td>\n",
              "      <td>-0.009431</td>\n",
              "      <td>0.798278</td>\n",
              "      <td>-0.137458</td>\n",
              "      <td>0.141267</td>\n",
              "      <td>-0.206010</td>\n",
              "      <td>0.502292</td>\n",
              "      <td>0.219422</td>\n",
              "      <td>0.215153</td>\n",
              "      <td>69.99</td>\n",
              "      <td>0</td>\n",
              "    </tr>\n",
              "  </tbody>\n",
              "</table>\n",
              "<p>5 rows × 30 columns</p>\n",
              "</div>\n",
              "      <button class=\"colab-df-convert\" onclick=\"convertToInteractive('df-6a9f5278-af19-4287-b55e-d8b10c573ad8')\"\n",
              "              title=\"Convert this dataframe to an interactive table.\"\n",
              "              style=\"display:none;\">\n",
              "        \n",
              "  <svg xmlns=\"http://www.w3.org/2000/svg\" height=\"24px\"viewBox=\"0 0 24 24\"\n",
              "       width=\"24px\">\n",
              "    <path d=\"M0 0h24v24H0V0z\" fill=\"none\"/>\n",
              "    <path d=\"M18.56 5.44l.94 2.06.94-2.06 2.06-.94-2.06-.94-.94-2.06-.94 2.06-2.06.94zm-11 1L8.5 8.5l.94-2.06 2.06-.94-2.06-.94L8.5 2.5l-.94 2.06-2.06.94zm10 10l.94 2.06.94-2.06 2.06-.94-2.06-.94-.94-2.06-.94 2.06-2.06.94z\"/><path d=\"M17.41 7.96l-1.37-1.37c-.4-.4-.92-.59-1.43-.59-.52 0-1.04.2-1.43.59L10.3 9.45l-7.72 7.72c-.78.78-.78 2.05 0 2.83L4 21.41c.39.39.9.59 1.41.59.51 0 1.02-.2 1.41-.59l7.78-7.78 2.81-2.81c.8-.78.8-2.07 0-2.86zM5.41 20L4 18.59l7.72-7.72 1.47 1.35L5.41 20z\"/>\n",
              "  </svg>\n",
              "      </button>\n",
              "      \n",
              "  <style>\n",
              "    .colab-df-container {\n",
              "      display:flex;\n",
              "      flex-wrap:wrap;\n",
              "      gap: 12px;\n",
              "    }\n",
              "\n",
              "    .colab-df-convert {\n",
              "      background-color: #E8F0FE;\n",
              "      border: none;\n",
              "      border-radius: 50%;\n",
              "      cursor: pointer;\n",
              "      display: none;\n",
              "      fill: #1967D2;\n",
              "      height: 32px;\n",
              "      padding: 0 0 0 0;\n",
              "      width: 32px;\n",
              "    }\n",
              "\n",
              "    .colab-df-convert:hover {\n",
              "      background-color: #E2EBFA;\n",
              "      box-shadow: 0px 1px 2px rgba(60, 64, 67, 0.3), 0px 1px 3px 1px rgba(60, 64, 67, 0.15);\n",
              "      fill: #174EA6;\n",
              "    }\n",
              "\n",
              "    [theme=dark] .colab-df-convert {\n",
              "      background-color: #3B4455;\n",
              "      fill: #D2E3FC;\n",
              "    }\n",
              "\n",
              "    [theme=dark] .colab-df-convert:hover {\n",
              "      background-color: #434B5C;\n",
              "      box-shadow: 0px 1px 3px 1px rgba(0, 0, 0, 0.15);\n",
              "      filter: drop-shadow(0px 1px 2px rgba(0, 0, 0, 0.3));\n",
              "      fill: #FFFFFF;\n",
              "    }\n",
              "  </style>\n",
              "\n",
              "      <script>\n",
              "        const buttonEl =\n",
              "          document.querySelector('#df-6a9f5278-af19-4287-b55e-d8b10c573ad8 button.colab-df-convert');\n",
              "        buttonEl.style.display =\n",
              "          google.colab.kernel.accessAllowed ? 'block' : 'none';\n",
              "\n",
              "        async function convertToInteractive(key) {\n",
              "          const element = document.querySelector('#df-6a9f5278-af19-4287-b55e-d8b10c573ad8');\n",
              "          const dataTable =\n",
              "            await google.colab.kernel.invokeFunction('convertToInteractive',\n",
              "                                                     [key], {});\n",
              "          if (!dataTable) return;\n",
              "\n",
              "          const docLinkHtml = 'Like what you see? Visit the ' +\n",
              "            '<a target=\"_blank\" href=https://colab.research.google.com/notebooks/data_table.ipynb>data table notebook</a>'\n",
              "            + ' to learn more about interactive tables.';\n",
              "          element.innerHTML = '';\n",
              "          dataTable['output_type'] = 'display_data';\n",
              "          await google.colab.output.renderOutput(dataTable, element);\n",
              "          const docLink = document.createElement('div');\n",
              "          docLink.innerHTML = docLinkHtml;\n",
              "          element.appendChild(docLink);\n",
              "        }\n",
              "      </script>\n",
              "    </div>\n",
              "  </div>\n",
              "  "
            ]
          },
          "metadata": {},
          "execution_count": 11
        }
      ]
    },
    {
      "cell_type": "code",
      "source": [
        "normal = df[df.Class == 0].sample(frac=0.5, random_state=2020).reset_index(drop=True)\n",
        "anomaly = df[df.Class == 1]\n",
        "\n",
        "print(f\"Normal: {normal.shape}\")\n",
        "print(f\"Anomaly: {anomaly.shape}\")"
      ],
      "metadata": {
        "colab": {
          "base_uri": "https://localhost:8080/"
        },
        "id": "eGjmXf983C2d",
        "outputId": "897a01d0-9d0d-4f96-8043-5539c5549d8b"
      },
      "execution_count": 12,
      "outputs": [
        {
          "output_type": "stream",
          "name": "stdout",
          "text": [
            "Normal: (142158, 30)\n",
            "Anomaly: (492, 30)\n"
          ]
        }
      ]
    },
    {
      "cell_type": "code",
      "source": [
        "# 정상 및 이상 데이터 집합을 학습-테스트-검증 데이터 세트로 분할\n",
        "normal_train, normal_test = train_test_split(normal, test_size = 0.2, random_state = 2020)\n",
        "anomaly_train, anomaly_test = train_test_split(anomaly, test_size = 0.2, random_state = 2020)\n",
        "normal_train, normal_validate = train_test_split(normal_train, test_size = 0.25, random_state = 2020)\n",
        "anomaly_train, anomaly_validate = train_test_split(anomaly_train, test_size = 0.25, random_state = 2020)"
      ],
      "metadata": {
        "id": "EN51c1vJ3TKK"
      },
      "execution_count": 13,
      "outputs": []
    },
    {
      "cell_type": "code",
      "source": [
        "x_train = pd.concat((normal_train, anomaly_train))\n",
        "x_test = pd.concat((normal_test, anomaly_test))\n",
        "x_validate = pd.concat((normal_validate, anomaly_validate))\n",
        "\n",
        "y_train = np.array(x_train[\"Class\"])\n",
        "y_test = np.array(x_test[\"Class\"])\n",
        "y_validate = np.array(x_validate[\"Class\"])\n",
        "\n",
        "x_train = x_train.drop(\"Class\", axis=1)\n",
        "x_test = x_test.drop(\"Class\", axis=1)\n",
        "x_validate = x_validate.drop(\"Class\", axis=1)\n",
        "\n",
        "print(\"Training sets:\\nx_train: {} \\ny_train:{}\".format(x_train.shape, y_train.shape))\n",
        "print(\"\\nTesting sets:\\nx_test: {} \\ny_test:{}\".format(x_test.shape, y_test.shape))\n",
        "print(\"\\nValidate sets:\\nx_validate: {} \\ny_validate:{}\".format(x_validate.shape, y_validate.shape))\n"
      ],
      "metadata": {
        "colab": {
          "base_uri": "https://localhost:8080/"
        },
        "id": "YSnwAtFj4GOx",
        "outputId": "3b50db11-a0d1-4ea1-d4d7-6b708c71eeba"
      },
      "execution_count": 14,
      "outputs": [
        {
          "output_type": "stream",
          "name": "stdout",
          "text": [
            "Training sets:\n",
            "x_train: (85588, 29) \n",
            "y_train:(85588,)\n",
            "\n",
            "Testing sets:\n",
            "x_test: (28531, 29) \n",
            "y_test:(28531,)\n",
            "\n",
            "Validate sets:\n",
            "x_validate: (28531, 29) \n",
            "y_validate:(28531,)\n"
          ]
        }
      ]
    },
    {
      "cell_type": "markdown",
      "source": [
        "### 스케일러를 통한 데이터 확장"
      ],
      "metadata": {
        "id": "T_9v67A04YNU"
      }
    },
    {
      "cell_type": "code",
      "source": [
        "scaler = StandardScaler()\n",
        "scaler.fit(pd.concat((normal, anomaly)).drop(\"Class\", axis=1))\n",
        "x_train = scaler.transform(x_train)\n",
        "x_test = scaler.transform(x_test)\n",
        "x_validate = scaler.transform(x_validate)\n"
      ],
      "metadata": {
        "colab": {
          "base_uri": "https://localhost:8080/"
        },
        "id": "8bGU0fkw6WBK",
        "outputId": "9182c9f0-e4d9-402f-cc5a-0e7ca34dd7cd"
      },
      "execution_count": 15,
      "outputs": [
        {
          "output_type": "stream",
          "name": "stderr",
          "text": [
            "/usr/local/lib/python3.10/dist-packages/ipykernel/ipkernel.py:283: DeprecationWarning: `should_run_async` will not call `transform_cell` automatically in the future. Please pass the result to `transformed_cell` argument and any exception that happen during thetransform in `preprocessing_exc_tuple` in IPython 7.17 and above.\n",
            "  and should_run_async(code)\n"
          ]
        }
      ]
    },
    {
      "cell_type": "markdown",
      "source": [
        "# MLFlow를 통한 학습 및 평가 (p130)"
      ],
      "metadata": {
        "id": "aRhHnY204n-a"
      }
    },
    {
      "cell_type": "code",
      "source": [
        "def train(sk_model, x_train, y_train):\n",
        "  sk_model = sk_model.fit(x_train, y_train)\n",
        "\n",
        "  train_acc = sk_model.score(x_train, y_train)\n",
        "\n",
        "  # MLFlow에 학습 정확도값을 추적하도록 설정\n",
        "  mlflow.log_metric(\"train_acc\", train_acc)\n",
        "\n",
        "  print(f\"Train Accuracy: {train_acc:.3%}\")"
      ],
      "metadata": {
        "colab": {
          "base_uri": "https://localhost:8080/"
        },
        "id": "rspFossV4pqz",
        "outputId": "abfc4ec7-d9cf-4867-b75c-da1fa9e0fd53"
      },
      "execution_count": 16,
      "outputs": [
        {
          "output_type": "stream",
          "name": "stderr",
          "text": [
            "/usr/local/lib/python3.10/dist-packages/ipykernel/ipkernel.py:283: DeprecationWarning: `should_run_async` will not call `transform_cell` automatically in the future. Please pass the result to `transformed_cell` argument and any exception that happen during thetransform in `preprocessing_exc_tuple` in IPython 7.17 and above.\n",
            "  and should_run_async(code)\n"
          ]
        }
      ]
    },
    {
      "cell_type": "code",
      "source": [
        "def evaluate(sk_model, x_test, y_test):\n",
        "  eval_acc = sk_model.score(x_test, y_test)\n",
        "\n",
        "  preds = sk_model.predict(x_test)\n",
        "  auc_score = roc_auc_score(y_test, preds)\n",
        "\n",
        "  # MLFlow에 테스트 정확도 및 정확도 점수를 추적하도록 설정\n",
        "  mlflow.log_metric(\"eval_acc\", eval_acc)\n",
        "  mlflow.log_metric(\"auc_score\", auc_score)\n",
        "\n",
        "  print(f\"Auc Score: {auc_score:.3%}\")\n",
        "  print(f\"Eval Accuracy: {eval_acc:.3%}\")\n",
        "\n",
        "  roc_plot = plot_roc_curve(sk_model, x_test, y_test, name ='scikit-learn ROC Curve')\n",
        "  plt.savefig(\"sklearn_roc_plot.png\")\n",
        "  plt.show()\n",
        "  plt.clf()\n",
        "\n",
        "  conf_matrix = confusion_matrix(y_test, preds)\n",
        "  ax = sns.heatmap(conf_matrix, annot=True, fmt='g')\n",
        "  ax.invert_xaxis()\n",
        "  ax.invert_yaxis()\n",
        "  plt.ylabel('Actual')\n",
        "  plt.xlabel('Predicted')\n",
        "  plt.title(\"Confusion Matrix\")\n",
        "  plt.savefig(\"sklearn_conf_matrix.png\")\n",
        "\n",
        "  # MLFlow에 로컬에 저장된 plot을 로깅하도록 설정\n",
        "  mlflow.log_artifact(\"sklearn_roc_plot.png\")\n",
        "  mlflow.log_artifact(\"sklearn_conf_matrix.png\")"
      ],
      "metadata": {
        "id": "v58msZRd6P7k"
      },
      "execution_count": 17,
      "outputs": []
    },
    {
      "cell_type": "markdown",
      "source": [
        "# MLFlow 실행 로깅 및 확인 (p133)"
      ],
      "metadata": {
        "id": "iaKYQTV-BEBH"
      }
    },
    {
      "cell_type": "code",
      "source": [
        "sk_model = LogisticRegression(random_state=None, max_iter=400, solver='newton-cg')\n",
        "\n",
        "# MLFlow 실험 이름 설정\n",
        "mlflow.set_experiment(f\"/Users/{databricks_email}/scikit_learn_experiment\")\n",
        "\n",
        "# MLFlow 실험 시작\n",
        "with mlflow.start_run():\n",
        "  train(sk_model, x_train, y_train)\n",
        "  evaluate(sk_model, x_test, y_test)\n",
        "\n",
        "  # MLFlow에 sk_model 모델 로깅\n",
        "  mlflow.sklearn.log_model(sk_model, \"log_reg_model\")\n",
        "\n",
        "  # 로깅된 데이터를 출력\n",
        "  print(\"Model run: \", mlflow.active_run().info.run_uuid)\n",
        "\n",
        "mlflow.end_run()"
      ],
      "metadata": {
        "colab": {
          "base_uri": "https://localhost:8080/",
          "height": 1000
        },
        "id": "N7u_8t1d8i3k",
        "outputId": "0f9ad255-35d3-4c22-dc05-41875e3de55f"
      },
      "execution_count": 18,
      "outputs": [
        {
          "output_type": "stream",
          "name": "stdout",
          "text": [
            "Train Accuracy: 99.893%\n",
            "Auc Score: 85.341%\n",
            "Eval Accuracy: 99.874%\n"
          ]
        },
        {
          "output_type": "stream",
          "name": "stderr",
          "text": [
            "/usr/local/lib/python3.10/dist-packages/sklearn/utils/deprecation.py:87: FutureWarning: Function plot_roc_curve is deprecated; Function :func:`plot_roc_curve` is deprecated in 1.0 and will be removed in 1.2. Use one of the class methods: :meth:`sklearn.metric.RocCurveDisplay.from_predictions` or :meth:`sklearn.metric.RocCurveDisplay.from_estimator`.\n",
            "  warnings.warn(msg, category=FutureWarning)\n"
          ]
        },
        {
          "output_type": "display_data",
          "data": {
            "text/plain": [
              "<Figure size 640x480 with 1 Axes>"
            ],
            "image/png": "[encoded data removed]"
          },
          "metadata": {}
        },
        {
          "output_type": "stream",
          "name": "stdout",
          "text": [
            "Model run:  af6dc2f1ce3d46d38bd5da8481afc358\n"
          ]
        },
        {
          "output_type": "display_data",
          "data": {
            "text/plain": [
              "<Figure size 640x480 with 2 Axes>"
            ],
            "image/png": "[encoded data removed]"
          },
          "metadata": {}
        }
      ]
    },
    {
      "cell_type": "markdown",
      "source": [
        "# MLFlow를 사용한 모델 검증 (파라미터 튜닝) (p143)"
      ],
      "metadata": {
        "id": "tkPzUK-rBOM9"
      }
    },
    {
      "cell_type": "code",
      "source": [
        "anomaly_weights = [1, 5, 10, 15]\n",
        "num_folds = 5\n",
        "kfold = KFold(n_splits=num_folds, shuffle=True, random_state=2020)"
      ],
      "metadata": {
        "id": "B3qe4vJ_A37q"
      },
      "execution_count": 19,
      "outputs": []
    },
    {
      "cell_type": "code",
      "source": [
        "mlflow.set_experiment(f\"/Users/{databricks_email}/sklearn_creditcard_broad_search\")\n",
        "\n",
        "logs = []\n",
        "\n",
        "for f in range(len(anomaly_weights)):\n",
        "  fold = 1\n",
        "  accuracies = []\n",
        "  auc_scores = []\n",
        "\n",
        "  for train, test in kfold.split(x_validate, y_validate):\n",
        "    with mlflow.start_run():\n",
        "      weight = anomaly_weights[f]\n",
        "      mlflow.log_param(\"anomaly_weight\", weight)\n",
        "      class_weights = {\n",
        "          0: 1,\n",
        "          1: weight\n",
        "      }\n",
        "\n",
        "      sk_model = LogisticRegression(random_state=None,\n",
        "                                    max_iter=400,\n",
        "                                    solver='newton-cg',\n",
        "                                    class_weight=class_weights).fit(x_validate[train], y_validate[train])\n",
        "\n",
        "      for h in range(40):\n",
        "        print('-', end=\"\")\n",
        "\n",
        "      print(f\"\\nfold {fold}\\nAnomaly Weight: {weight}\")\n",
        "\n",
        "      train_acc = sk_model.score(x_validate[train], y_validate[train])\n",
        "\n",
        "      mlflow.log_metric(\"train_acc\", train_acc)\n",
        "\n",
        "      eval_acc = sk_model.score(x_validate[test], y_validate[test])\n",
        "      preds = sk_model.predict(x_validate[test])\n",
        "\n",
        "      mlflow.log_metric(\"eval_acc\", eval_acc)\n",
        "\n",
        "      try:\n",
        "        auc_score = roc_auc_score(y_validate[test], preds)\n",
        "\n",
        "      except:\n",
        "        auc_score = -1\n",
        "\n",
        "      mlflow.log_metric(\"auc_score\", auc_score)\n",
        "\n",
        "      print(\"AUC: {}\\neval_acc: {}\".format(auc_score, eval_acc))\n",
        "\n",
        "      accuracies.append(eval_acc)\n",
        "      auc_scores.append(auc_score)\n",
        "\n",
        "      log = [sk_model, x_validate[test], y_validate[test], preds]\n",
        "      logs.append(log)\n",
        "\n",
        "      mlflow.sklearn.log_model(sk_model, f\"anom_weight_{weight}_fold_{fold}\")\n",
        "\n",
        "      fold = fold + 1\n",
        "\n",
        "      mlflow.end_run()\n"
      ],
      "metadata": {
        "colab": {
          "base_uri": "https://localhost:8080/"
        },
        "id": "FeZ6uDbBBLrj",
        "outputId": "6721be46-9fce-42f6-8fb4-b3c8a03a8a67"
      },
      "execution_count": 20,
      "outputs": [
        {
          "output_type": "stream",
          "name": "stdout",
          "text": [
            "INFO: '/Users/workdofficial@gmail.com/sklearn_creditcard_broad_search' does not exist. Creating a new experiment\n",
            "----------------------------------------\n",
            "fold 1\n",
            "Anomaly Weight: 1\n",
            "AUC: 0.8\n",
            "eval_acc: 0.9985982127212195\n",
            "----------------------------------------\n",
            "fold 2\n",
            "Anomaly Weight: 1\n",
            "AUC: 0.8568790049001132\n",
            "eval_acc: 0.998422712933754\n",
            "----------------------------------------\n",
            "fold 3\n",
            "Anomaly Weight: 1\n",
            "AUC: 0.8406451922461774\n",
            "eval_acc: 0.9982474588152822\n",
            "----------------------------------------\n",
            "fold 4\n",
            "Anomaly Weight: 1\n",
            "AUC: 0.8682452129973255\n",
            "eval_acc: 0.9987732211706976\n",
            "----------------------------------------\n",
            "fold 5\n",
            "Anomaly Weight: 1\n",
            "AUC: 0.8528532875621686\n",
            "eval_acc: 0.9989484752891693\n",
            "----------------------------------------\n",
            "fold 1\n",
            "Anomaly Weight: 5\n",
            "AUC: 0.8748241603657465\n",
            "eval_acc: 0.9987734361310671\n",
            "----------------------------------------\n",
            "fold 2\n",
            "Anomaly Weight: 5\n",
            "AUC: 0.975398919462244\n",
            "eval_acc: 0.9982474588152822\n",
            "----------------------------------------\n",
            "fold 3\n",
            "Anomaly Weight: 5\n",
            "AUC: 0.9314663169342972\n",
            "eval_acc: 0.9987732211706976\n",
            "----------------------------------------\n",
            "fold 4\n",
            "Anomaly Weight: 5\n",
            "AUC: 0.8943851628367561\n",
            "eval_acc: 0.9985979670522257\n",
            "----------------------------------------\n",
            "fold 5\n",
            "Anomaly Weight: 5\n",
            "AUC: 0.8820013855427915\n",
            "eval_acc: 0.9985979670522257\n",
            "----------------------------------------\n",
            "fold 1\n",
            "Anomaly Weight: 10\n",
            "AUC: 0.9243845612801126\n",
            "eval_acc: 0.9982477659015244\n",
            "----------------------------------------\n",
            "fold 2\n",
            "Anomaly Weight: 10\n",
            "AUC: 0.9753109687146626\n",
            "eval_acc: 0.9980722046968104\n",
            "----------------------------------------\n",
            "fold 3\n",
            "Anomaly Weight: 10\n",
            "AUC: 0.9313783507133262\n",
            "eval_acc: 0.9985979670522257\n",
            "----------------------------------------\n",
            "fold 4\n",
            "Anomaly Weight: 10\n",
            "AUC: 0.8943851628367561\n",
            "eval_acc: 0.9985979670522257\n",
            "----------------------------------------\n",
            "fold 5\n",
            "Anomaly Weight: 10\n",
            "AUC: 0.8820013855427915\n",
            "eval_acc: 0.9985979670522257\n",
            "----------------------------------------\n",
            "fold 1\n",
            "Anomaly Weight: 15\n",
            "AUC: 0.9242966414629858\n",
            "eval_acc: 0.9980725424916769\n",
            "----------------------------------------\n",
            "fold 2\n",
            "Anomaly Weight: 15\n",
            "AUC: 0.9751350672194998\n",
            "eval_acc: 0.9977216964598669\n",
            "----------------------------------------\n",
            "fold 3\n",
            "Anomaly Weight: 15\n",
            "AUC: 0.9312903844923551\n",
            "eval_acc: 0.998422712933754\n",
            "----------------------------------------\n",
            "fold 4\n",
            "Anomaly Weight: 15\n",
            "AUC: 0.8940334835682489\n",
            "eval_acc: 0.9978969505783386\n",
            "----------------------------------------\n",
            "fold 5\n",
            "Anomaly Weight: 15\n",
            "AUC: 0.8813861631838532\n",
            "eval_acc: 0.9973711882229233\n"
          ]
        }
      ]
    },
    {
      "cell_type": "code",
      "source": [
        "print(\"\\nAverages: \")\n",
        "print(\"Accuracy: \", np.mean(accuracies))\n",
        "print(\"AUC: \", np.mean(auc_scores))\n",
        "print(\"Best: \")\n",
        "print(\"Accuracy: \", np.max(accuracies))\n",
        "print(\"AUC: \", np.max(auc_scores))\n"
      ],
      "metadata": {
        "colab": {
          "base_uri": "https://localhost:8080/"
        },
        "id": "2ejJnAFkH5ix",
        "outputId": "58247ff5-4828-49e4-cc4e-b2fafac0501c"
      },
      "execution_count": 21,
      "outputs": [
        {
          "output_type": "stream",
          "name": "stdout",
          "text": [
            "\n",
            "Averages: \n",
            "Accuracy:  0.9978970181373118\n",
            "AUC:  0.9212283479853886\n",
            "Best: \n",
            "Accuracy:  0.998422712933754\n",
            "AUC:  0.9751350672194998\n"
          ]
        },
        {
          "output_type": "stream",
          "name": "stderr",
          "text": [
            "/usr/local/lib/python3.10/dist-packages/ipykernel/ipkernel.py:283: DeprecationWarning: `should_run_async` will not call `transform_cell` automatically in the future. Please pass the result to `transformed_cell` argument and any exception that happen during thetransform in `preprocessing_exc_tuple` in IPython 7.17 and above.\n",
            "  and should_run_async(code)\n"
          ]
        }
      ]
    },
    {
      "cell_type": "markdown",
      "source": [
        "## 파라미터 튜닝 - Guided Search (p156)"
      ],
      "metadata": {
        "id": "rwhQZ5QxWTfI"
      }
    },
    {
      "cell_type": "code",
      "source": [
        "anomaly_weights = [10, 50, 100, 150, 200]\n",
        "num_folds = 5\n",
        "kfold = KFold(n_splits=num_folds, shuffle=True, random_state=2020)"
      ],
      "metadata": {
        "id": "JTa2LfmIWjCu"
      },
      "execution_count": 22,
      "outputs": []
    },
    {
      "cell_type": "code",
      "source": [
        "mlflow.set_experiment(f\"/Users/{databricks_email}/sklearn_creditcard_guided_search\")\n",
        "\n",
        "logs = []\n",
        "\n",
        "for f in range(len(anomaly_weights)):\n",
        "  fold = 1\n",
        "  accuracies = []\n",
        "  auc_scores = []\n",
        "\n",
        "  for train, test in kfold.split(x_validate, y_validate):\n",
        "    with mlflow.start_run():\n",
        "      weight = anomaly_weights[f]\n",
        "      mlflow.log_param(\"anomaly_weight\", weight)\n",
        "      class_weights = {\n",
        "          0: 1,\n",
        "          1: weight\n",
        "      }\n",
        "\n",
        "      sk_model = LogisticRegression(random_state=None,\n",
        "                                    max_iter=400,\n",
        "                                    solver='newton-cg',\n",
        "                                    class_weight=class_weights).fit(x_validate[train], y_validate[train])\n",
        "\n",
        "      for h in range(40):\n",
        "        print('-', end=\"\")\n",
        "\n",
        "      print(f\"\\nfold {fold}\\nAnomaly Weight: {weight}\")\n",
        "\n",
        "      train_acc = sk_model.score(x_validate[train], y_validate[train])\n",
        "\n",
        "      mlflow.log_metric(\"train_acc\", train_acc)\n",
        "\n",
        "      eval_acc = sk_model.score(x_validate[test], y_validate[test])\n",
        "      preds = sk_model.predict(x_validate[test])\n",
        "\n",
        "      mlflow.log_metric(\"eval_acc\", eval_acc)\n",
        "\n",
        "      try:\n",
        "        auc_score = roc_auc_score(y_validate[test], preds)\n",
        "\n",
        "      except:\n",
        "        auc_score = -1\n",
        "\n",
        "      mlflow.log_metric(\"auc_score\", auc_score)\n",
        "\n",
        "      print(\"AUC: {}\\neval_acc: {}\".format(auc_score, eval_acc))\n",
        "\n",
        "      accuracies.append(eval_acc)\n",
        "      auc_scores.append(auc_score)\n",
        "\n",
        "      log = [sk_model, x_validate[test], y_validate[test], preds]\n",
        "      logs.append(log)\n",
        "\n",
        "      mlflow.sklearn.log_model(sk_model, f\"anom_weight_{weight}_fold_{fold}\")\n",
        "\n",
        "      fold = fold + 1\n",
        "\n",
        "      mlflow.end_run()\n"
      ],
      "metadata": {
        "colab": {
          "base_uri": "https://localhost:8080/"
        },
        "id": "IGUXd_YEWvzP",
        "outputId": "089c7236-92d6-4a2d-c559-f35d8fd63e8f"
      },
      "execution_count": 23,
      "outputs": [
        {
          "output_type": "stream",
          "name": "stdout",
          "text": [
            "INFO: '/Users/workdofficial@gmail.com/sklearn_creditcard_guided_search' does not exist. Creating a new experiment\n",
            "----------------------------------------\n",
            "fold 1\n",
            "Anomaly Weight: 10\n",
            "AUC: 0.9243845612801126\n",
            "eval_acc: 0.9982477659015244\n",
            "----------------------------------------\n",
            "fold 2\n",
            "Anomaly Weight: 10\n",
            "AUC: 0.9753109687146626\n",
            "eval_acc: 0.9980722046968104\n",
            "----------------------------------------\n",
            "fold 3\n",
            "Anomaly Weight: 10\n",
            "AUC: 0.9313783507133262\n",
            "eval_acc: 0.9985979670522257\n",
            "----------------------------------------\n",
            "fold 4\n",
            "Anomaly Weight: 10\n",
            "AUC: 0.8943851628367561\n",
            "eval_acc: 0.9985979670522257\n",
            "----------------------------------------\n",
            "fold 5\n",
            "Anomaly Weight: 10\n",
            "AUC: 0.8820013855427915\n",
            "eval_acc: 0.9985979670522257\n",
            "----------------------------------------\n",
            "fold 1\n",
            "Anomaly Weight: 50\n",
            "AUC: 0.922626164937577\n",
            "eval_acc: 0.9947432977045734\n",
            "----------------------------------------\n",
            "fold 2\n",
            "Anomaly Weight: 50\n",
            "AUC: 0.9734640030154541\n",
            "eval_acc: 0.9943918682089029\n",
            "----------------------------------------\n",
            "fold 3\n",
            "Anomaly Weight: 50\n",
            "AUC: 0.9296190262939033\n",
            "eval_acc: 0.99509288468279\n",
            "----------------------------------------\n",
            "fold 4\n",
            "Anomaly Weight: 50\n",
            "AUC: 0.9183271172480171\n",
            "eval_acc: 0.9940413599719593\n",
            "----------------------------------------\n",
            "fold 5\n",
            "Anomaly Weight: 50\n",
            "AUC: 0.8797162739238779\n",
            "eval_acc: 0.9940413599719593\n",
            "----------------------------------------\n",
            "fold 1\n",
            "Anomaly Weight: 100\n",
            "AUC: 0.9205160893265342\n",
            "eval_acc: 0.990537935868232\n",
            "----------------------------------------\n",
            "fold 2\n",
            "Anomaly Weight: 100\n",
            "AUC: 0.9951627088830255\n",
            "eval_acc: 0.9903610234840519\n",
            "----------------------------------------\n",
            "fold 3\n",
            "Anomaly Weight: 100\n",
            "AUC: 0.9268920734437976\n",
            "eval_acc: 0.9896600070101648\n",
            "----------------------------------------\n",
            "fold 4\n",
            "Anomaly Weight: 100\n",
            "AUC: 0.9429724301962926\n",
            "eval_acc: 0.9908867858394672\n",
            "----------------------------------------\n",
            "fold 5\n",
            "Anomaly Weight: 100\n",
            "AUC: 0.8777827179386432\n",
            "eval_acc: 0.9901857693655801\n",
            "----------------------------------------\n",
            "fold 1\n",
            "Anomaly Weight: 150\n",
            "AUC: 0.9186697731668719\n",
            "eval_acc: 0.9868582442614333\n",
            "----------------------------------------\n",
            "fold 2\n",
            "Anomaly Weight: 150\n",
            "AUC: 0.9927000879507476\n",
            "eval_acc: 0.985453908166842\n",
            "----------------------------------------\n",
            "fold 3\n",
            "Anomaly Weight: 150\n",
            "AUC: 0.9247808841404901\n",
            "eval_acc: 0.985453908166842\n",
            "----------------------------------------\n",
            "fold 4\n",
            "Anomaly Weight: 150\n",
            "AUC: 0.9411261140366303\n",
            "eval_acc: 0.9872064493515598\n",
            "----------------------------------------\n",
            "fold 5\n",
            "Anomaly Weight: 150\n",
            "AUC: 0.9053488155677106\n",
            "eval_acc: 0.9866806869961444\n",
            "----------------------------------------\n",
            "fold 1\n",
            "Anomaly Weight: 200\n",
            "AUC: 0.9427026551784772\n",
            "eval_acc: 0.9851060101629577\n",
            "----------------------------------------\n",
            "fold 2\n",
            "Anomaly Weight: 200\n",
            "AUC: 0.9904133685136324\n",
            "eval_acc: 0.9808973010865756\n",
            "----------------------------------------\n",
            "fold 3\n",
            "Anomaly Weight: 200\n",
            "AUC: 0.9226696948371826\n",
            "eval_acc: 0.9812478093235191\n",
            "----------------------------------------\n",
            "fold 4\n",
            "Anomaly Weight: 200\n",
            "AUC: 0.9391039582427143\n",
            "eval_acc: 0.9831756046267087\n",
            "----------------------------------------\n",
            "fold 5\n",
            "Anomaly Weight: 200\n",
            "AUC: 0.9029758150403772\n",
            "eval_acc: 0.9819488257974063\n"
          ]
        }
      ]
    },
    {
      "cell_type": "code",
      "source": [
        "print(\"\\nAverages: \")\n",
        "print(\"Accuracy: \", np.mean(accuracies))\n",
        "print(\"AUC: \", np.mean(auc_scores))\n",
        "print(\"Best: \")\n",
        "print(\"Accuracy: \", np.max(accuracies))\n",
        "print(\"AUC: \", np.max(auc_scores))\n"
      ],
      "metadata": {
        "colab": {
          "base_uri": "https://localhost:8080/"
        },
        "id": "Ak1K7siRY7C8",
        "outputId": "aa21dafa-e09e-42df-a1eb-8b4f54e88671"
      },
      "execution_count": 24,
      "outputs": [
        {
          "output_type": "stream",
          "name": "stdout",
          "text": [
            "\n",
            "Averages: \n",
            "Accuracy:  0.9824751101994336\n",
            "AUC:  0.9395730983624768\n",
            "Best: \n",
            "Accuracy:  0.9851060101629577\n",
            "AUC:  0.9904133685136324\n"
          ]
        }
      ]
    },
    {
      "cell_type": "code",
      "source": [],
      "metadata": {
        "id": "DEq8PbFMZBap"
      },
      "execution_count": null,
      "outputs": []
    }
  ]
}